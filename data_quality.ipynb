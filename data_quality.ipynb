{
 "cells": [
  {
   "cell_type": "code",
   "execution_count": 1,
   "metadata": {},
   "outputs": [],
   "source": [
    "import pandas as pd"
   ]
  },
  {
   "cell_type": "code",
   "execution_count": 229,
   "metadata": {},
   "outputs": [],
   "source": [
    "df = pd.read_csv(\"https://raw.githubusercontent.com/Nerd-fy/ScraperCode/master/ds_manga_dict_jpop.csv\",sep=\"\\t\",header=0)"
   ]
  },
  {
   "cell_type": "code",
   "execution_count": 230,
   "metadata": {
    "scrolled": true
   },
   "outputs": [
    {
     "data": {
      "text/html": [
       "<div>\n",
       "<style scoped>\n",
       "    .dataframe tbody tr th:only-of-type {\n",
       "        vertical-align: middle;\n",
       "    }\n",
       "\n",
       "    .dataframe tbody tr th {\n",
       "        vertical-align: top;\n",
       "    }\n",
       "\n",
       "    .dataframe thead th {\n",
       "        text-align: right;\n",
       "    }\n",
       "</style>\n",
       "<table border=\"1\" class=\"dataframe\">\n",
       "  <thead>\n",
       "    <tr style=\"text-align: right;\">\n",
       "      <th></th>\n",
       "      <th>url</th>\n",
       "      <th>titolo</th>\n",
       "      <th>prezzo</th>\n",
       "      <th>descrizione</th>\n",
       "      <th>scheda_tecnica</th>\n",
       "      <th>img_file</th>\n",
       "    </tr>\n",
       "  </thead>\n",
       "  <tbody>\n",
       "    <tr>\n",
       "      <th>0</th>\n",
       "      <td>https://www.j-pop.it/barbara/5310-barbara-001....</td>\n",
       "      <td>Barbara 001</td>\n",
       "      <td>['Prezzo: 12,50 €', 'Riferimento: 9788834900543']</td>\n",
       "      <td>“Barbara”, un nome misterioso che sconvolge le...</td>\n",
       "      <td>[['Autore: Moto Hagio'], ['Numero volumi: Seri...</td>\n",
       "      <td>https://www.j-pop.it/5204-thickbox_default/bar...</td>\n",
       "    </tr>\n",
       "    <tr>\n",
       "      <th>1</th>\n",
       "      <td>https://www.j-pop.it/tokyo-after-hours/5309-to...</td>\n",
       "      <td>Tokyo After Hours - BOX (1-3)</td>\n",
       "      <td>['Prezzo: 20,70 €', 'Riferimento: 9788834901649']</td>\n",
       "      <td>Rapite dalla musica e dalla personalità l'una ...</td>\n",
       "      <td>[['Autore: Yutha Nishio'], ['Numero volumi: Co...</td>\n",
       "      <td>https://www.j-pop.it/5203-thickbox_default/tok...</td>\n",
       "    </tr>\n",
       "    <tr>\n",
       "      <th>2</th>\n",
       "      <td>https://www.j-pop.it/the-proper-way-to-write-l...</td>\n",
       "      <td>The Proper Way to Write Love</td>\n",
       "      <td>['Prezzo: 6,90 €', 'Riferimento: 9788834903551']</td>\n",
       "      <td>Ogeretsu Tanaka continua a esplorare le mille ...</td>\n",
       "      <td>[['Autore: Ogeretsu Tanaka'], ['Numero volumi:...</td>\n",
       "      <td>https://www.j-pop.it/5202-thickbox_default/the...</td>\n",
       "    </tr>\n",
       "    <tr>\n",
       "      <th>3</th>\n",
       "      <td>https://www.j-pop.it/danmachi-sword-oratoria/5...</td>\n",
       "      <td>Danmachi Sword Oratoria 012</td>\n",
       "      <td>['Prezzo: 5,90 €', 'Riferimento: 9788834901410']</td>\n",
       "      <td>Lefiya perde infine la pazienza per le continu...</td>\n",
       "      <td>[['Scrittore: Fujino Omori'], ['Disegnatore: T...</td>\n",
       "      <td>https://www.j-pop.it/5201-thickbox_default/dan...</td>\n",
       "    </tr>\n",
       "    <tr>\n",
       "      <th>4</th>\n",
       "      <td>https://www.j-pop.it/so-i-m-a-spider-so-what/5...</td>\n",
       "      <td>So I'm a Spider, So What? 001</td>\n",
       "      <td>['Prezzo: 6,50 €', 'Riferimento: 9788834903346']</td>\n",
       "      <td>Con la prima tiratura, in omaggio una variant ...</td>\n",
       "      <td>[['Autore: Okina Baba'], ['Scrittore: Okina Ba...</td>\n",
       "      <td>https://www.j-pop.it/5196-thickbox_default/so-...</td>\n",
       "    </tr>\n",
       "  </tbody>\n",
       "</table>\n",
       "</div>"
      ],
      "text/plain": [
       "                                                 url  \\\n",
       "0  https://www.j-pop.it/barbara/5310-barbara-001....   \n",
       "1  https://www.j-pop.it/tokyo-after-hours/5309-to...   \n",
       "2  https://www.j-pop.it/the-proper-way-to-write-l...   \n",
       "3  https://www.j-pop.it/danmachi-sword-oratoria/5...   \n",
       "4  https://www.j-pop.it/so-i-m-a-spider-so-what/5...   \n",
       "\n",
       "                          titolo  \\\n",
       "0                    Barbara 001   \n",
       "1  Tokyo After Hours - BOX (1-3)   \n",
       "2   The Proper Way to Write Love   \n",
       "3    Danmachi Sword Oratoria 012   \n",
       "4  So I'm a Spider, So What? 001   \n",
       "\n",
       "                                              prezzo  \\\n",
       "0  ['Prezzo: 12,50 €', 'Riferimento: 9788834900543']   \n",
       "1  ['Prezzo: 20,70 €', 'Riferimento: 9788834901649']   \n",
       "2   ['Prezzo: 6,90 €', 'Riferimento: 9788834903551']   \n",
       "3   ['Prezzo: 5,90 €', 'Riferimento: 9788834901410']   \n",
       "4   ['Prezzo: 6,50 €', 'Riferimento: 9788834903346']   \n",
       "\n",
       "                                         descrizione  \\\n",
       "0  “Barbara”, un nome misterioso che sconvolge le...   \n",
       "1  Rapite dalla musica e dalla personalità l'una ...   \n",
       "2  Ogeretsu Tanaka continua a esplorare le mille ...   \n",
       "3  Lefiya perde infine la pazienza per le continu...   \n",
       "4  Con la prima tiratura, in omaggio una variant ...   \n",
       "\n",
       "                                      scheda_tecnica  \\\n",
       "0  [['Autore: Moto Hagio'], ['Numero volumi: Seri...   \n",
       "1  [['Autore: Yutha Nishio'], ['Numero volumi: Co...   \n",
       "2  [['Autore: Ogeretsu Tanaka'], ['Numero volumi:...   \n",
       "3  [['Scrittore: Fujino Omori'], ['Disegnatore: T...   \n",
       "4  [['Autore: Okina Baba'], ['Scrittore: Okina Ba...   \n",
       "\n",
       "                                            img_file  \n",
       "0  https://www.j-pop.it/5204-thickbox_default/bar...  \n",
       "1  https://www.j-pop.it/5203-thickbox_default/tok...  \n",
       "2  https://www.j-pop.it/5202-thickbox_default/the...  \n",
       "3  https://www.j-pop.it/5201-thickbox_default/dan...  \n",
       "4  https://www.j-pop.it/5196-thickbox_default/so-...  "
      ]
     },
     "execution_count": 230,
     "metadata": {},
     "output_type": "execute_result"
    }
   ],
   "source": [
    "df.head()"
   ]
  },
  {
   "cell_type": "code",
   "execution_count": 231,
   "metadata": {},
   "outputs": [],
   "source": [
    "formato=[]\n",
    "for index,row in df.iterrows():\n",
    "    if row['scheda_tecnica'].find(\"Formato\") >0:\n",
    "        if row['scheda_tecnica'].split(\"Formato\")[-1].replace(\": \",\"\").startswith(\"9\"):\n",
    "            row['scheda_tecnica'].replace(\"Formato\",\"ISBN\")"
   ]
  },
  {
   "cell_type": "code",
   "execution_count": 232,
   "metadata": {},
   "outputs": [],
   "source": [
    "new_scheda_tecnica = []\n",
    "genere = []\n",
    "for index,row in df.iterrows():\n",
    "    new_scheda_tecnica.append(row['scheda_tecnica'].replace(\"[\",\"\").replace(\"]\",\"\").replace(\" '\",\"\").replace(\"'\",\"\"))\n",
    "    genere.append(row['scheda_tecnica'].replace(\"[\",\"\").replace(\"]\",\"\").replace(\" '\",\"\").replace(\"'\",\"\").split(\"Genere\")[-1].replace(\": \",\"\")) "
   ]
  },
  {
   "cell_type": "code",
   "execution_count": 233,
   "metadata": {},
   "outputs": [],
   "source": [
    "autore = []\n",
    "disegnatore = []\n",
    "for index,row in df.iterrows():\n",
    "    if row['scheda_tecnica'].find(\"Autore\") >0:\n",
    "        autore.append(row['scheda_tecnica'].split(\"Autore\")[1].split(\"],\")[0].title().replace(\": \",\"\").replace(\"\\'\",\"\"))\n",
    "        disegnatore.append(None)\n",
    "    else:\n",
    "        autore.append(row['scheda_tecnica'].split(\"Scrittore\")[-1].split(\"'], \")[0].title().replace(\": \",\"\"))\n",
    "        disegnatore.append(row['scheda_tecnica'].split(\"Disegnatore\")[-1].split(\"'], \")[0].title().replace(\": \",\"\"))"
   ]
  },
  {
   "cell_type": "code",
   "execution_count": 331,
   "metadata": {},
   "outputs": [],
   "source": [
    "volume = []\n",
    "for index,row in df.iterrows():\n",
    "    if row['titolo'].split()[-1].isdigit(): \n",
    "        volume.append(int(row['titolo'].split()[-1]))\n",
    "    else:\n",
    "        volume.append(\"Not Available\")"
   ]
  },
  {
   "cell_type": "code",
   "execution_count": 236,
   "metadata": {},
   "outputs": [],
   "source": [
    "prezzo = []\n",
    "for index,row in df.iterrows():\n",
    "    prezzo.append(row['prezzo'].split(\"Riferimento\")[0].replace(\"['Prezzo: \", \"\").replace(\" €\\' \",\"\").split(\" €\")[0])\n",
    "    isbn.append(row['prezzo'].split(\"Riferimento\")[-1].replace(\": \",\"\").replace(\"']\",\"\"))"
   ]
  },
  {
   "cell_type": "code",
   "execution_count": 272,
   "metadata": {},
   "outputs": [],
   "source": [
    "isbn = []\n",
    "for index,row in df.iterrows():\n",
    "    if row['scheda_tecnica'].find(\"ISBN\") >0:\n",
    "        isbn.append(row['scheda_tecnica'].split(\"ISBN\")[-1].replace(\": \",\"\").split(\"'], \")[0].replace(\" \",\"\"))\n",
    "    else:\n",
    "        isbn.append(\"Not Available\")"
   ]
  },
  {
   "cell_type": "code",
   "execution_count": 250,
   "metadata": {},
   "outputs": [],
   "source": [
    "formato=[]\n",
    "for index,row in df.iterrows():\n",
    "    if row['scheda_tecnica'].find(\"Formato\") >0:\n",
    "        if (row['scheda_tecnica'].split(\"Formato\")[-1].replace(\": \",\"\").split(\"'], \")[0].startswith(\"1\")):\n",
    "            formato.append(row['scheda_tecnica'].split(\"Formato\")[-1].replace(\": \",\"\").split(\"'], \")[0])\n",
    "        else:\n",
    "            formato.append(\"Not Available\")\n",
    "    else:\n",
    "        formato.append(\"Not Available\") "
   ]
  },
  {
   "cell_type": "code",
   "execution_count": 258,
   "metadata": {},
   "outputs": [],
   "source": [
    "pagine = []\n",
    "for index,row in df.iterrows():\n",
    "    if row['scheda_tecnica'].find(\"Pagine\") >0:\n",
    "        pagine.append(row['scheda_tecnica'].split(\"Pagine\")[-1].replace(\": \",\"\").split(\"'], \")[0].split()[0])\n",
    "    else:\n",
    "        pagine.append(0)"
   ]
  },
  {
   "cell_type": "code",
   "execution_count": 237,
   "metadata": {},
   "outputs": [
    {
     "data": {
      "text/plain": [
       "(2692, 6)"
      ]
     },
     "execution_count": 237,
     "metadata": {},
     "output_type": "execute_result"
    }
   ],
   "source": [
    "df.shape"
   ]
  },
  {
   "cell_type": "code",
   "execution_count": 339,
   "metadata": {},
   "outputs": [],
   "source": [
    "n_ristampa = []\n",
    "data_rilascio=[]\n",
    "contenuti=[]\n",
    "colore=[]\n",
    "binding=[]\n",
    "publisher=[]\n",
    "size=[]\n",
    "for index,row in df.iterrows():\n",
    "    publisher.append(\"jpop\")\n",
    "    n_ristampa.append(1)\n",
    "    data_rilascio.append(None)\n",
    "    size.append(\"Not Available\")\n",
    "    contenuti.append(\"Not Available\")\n",
    "    colore.append(\"Not Available\")\n",
    "    binding.append(\"Not Available\")"
   ]
  },
  {
   "cell_type": "code",
   "execution_count": 305,
   "metadata": {},
   "outputs": [],
   "source": [
    "id_nicolas = []\n",
    "for index,row in df.iterrows():\n",
    "    alphanumeric = []\n",
    "    for character in row[\"titolo\"]:\n",
    "        if character.isalnum():\n",
    "            alphanumeric += character\n",
    "    id_nicolas.append(\"_\".join([\"jpop\",\"\".join(alphanumeric).lower()]))"
   ]
  },
  {
   "cell_type": "code",
   "execution_count": 315,
   "metadata": {},
   "outputs": [],
   "source": [
    "product_id = []\n",
    "for index,row in df.iterrows():\n",
    "    product_id.append(row['url'].split(\"/\")[-1].split(\"-\")[0])"
   ]
  },
  {
   "cell_type": "code",
   "execution_count": 340,
   "metadata": {},
   "outputs": [],
   "source": [
    "df['publisher']=publisher\n",
    "df['genere']=genere\n",
    "df['autore']=autore\n",
    "df['volume']=volume\n",
    "df['prezzo_intero']=prezzo\n",
    "df['id_nicolas']=id_nicolas\n",
    "df['prezzo_attuale']=prezzo\n",
    "df['isbn']=isbn\n",
    "df['disegnatore']=disegnatore\n",
    "df['formato']=formato\n",
    "df['pagine']=pagine\n",
    "df['n_ristampa']=n_ristampa\n",
    "df['data_rilascio']=data_rilascio\n",
    "df['contenuti']=contenuti\n",
    "df['colore']=colore\n",
    "df['binding']=binding\n",
    "df['product_id']=product_id\n",
    "df['size']=size"
   ]
  },
  {
   "cell_type": "code",
   "execution_count": 335,
   "metadata": {},
   "outputs": [
    {
     "data": {
      "text/plain": [
       "Index(['url', 'titolo', 'prezzo', 'descrizione', 'scheda_tecnica', 'img_file',\n",
       "       'genere', 'autore', 'volume', '_prezzo', 'isbn', 'disegnatore',\n",
       "       'formato', 'pagine', 'n_ristampa', 'data_rilascio', 'contenuti',\n",
       "       'colore', 'binding', 'prezzo_attuale', 'id_nicolas', 'product_id',\n",
       "       'publisher', 'prezzo_intero'],\n",
       "      dtype='object')"
      ]
     },
     "execution_count": 335,
     "metadata": {},
     "output_type": "execute_result"
    }
   ],
   "source": [
    "df.columns"
   ]
  },
  {
   "cell_type": "code",
   "execution_count": 343,
   "metadata": {},
   "outputs": [],
   "source": [
    "df[['publisher','id_nicolas','url','titolo','volume','product_id','n_ristampa','prezzo_intero','prezzo_attuale','data_rilascio','autore','disegnatore','pagine','size','contenuti','binding','colore','isbn','descrizione','genere','img_file']].to_csv(\"/Users/simone/Documents/Master_scraping/jpop_hd.csv\",index=False,header=True)"
   ]
  },
  {
   "cell_type": "code",
   "execution_count": null,
   "metadata": {},
   "outputs": [],
   "source": []
  }
 ],
 "metadata": {
  "kernelspec": {
   "display_name": "Python 3",
   "language": "python",
   "name": "python3"
  },
  "language_info": {
   "codemirror_mode": {
    "name": "ipython",
    "version": 3
   },
   "file_extension": ".py",
   "mimetype": "text/x-python",
   "name": "python",
   "nbconvert_exporter": "python",
   "pygments_lexer": "ipython3",
   "version": "3.7.7"
  }
 },
 "nbformat": 4,
 "nbformat_minor": 4
}
